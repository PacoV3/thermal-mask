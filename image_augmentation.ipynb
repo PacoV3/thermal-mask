{
 "cells": [
  {
   "cell_type": "code",
   "execution_count": 18,
   "id": "9a775abf-4a8f-4ddb-994b-471db7c928c8",
   "metadata": {},
   "outputs": [],
   "source": [
    "from tensorflow.keras.preprocessing.image import ImageDataGenerator\n",
    "import matplotlib.pyplot as plt\n",
    "import numpy as np\n",
    "from skimage.io import imread\n",
    "import glob"
   ]
  },
  {
   "cell_type": "code",
   "execution_count": 19,
   "metadata": {},
   "outputs": [],
   "source": [
    "def imageGenerator(image, folder, prefix, zca=False, rotation=0., w_shift=0., h_shift=0., shear=0., zoom=0., h_flip=False, v_flip=False,  preprocess_fcn=None, batch_size=4):\n",
    "    dataGenerated = ImageDataGenerator(\n",
    "        zca_whitening=zca,\n",
    "        rotation_range=rotation,\n",
    "        width_shift_range=w_shift,\n",
    "        height_shift_range=h_shift,\n",
    "        shear_range=shear,\n",
    "        zoom_range=zoom,\n",
    "        fill_mode='nearest',\n",
    "        horizontal_flip=h_flip,\n",
    "        vertical_flip=v_flip,\n",
    "        preprocessing_function=preprocess_fcn)\n",
    "    dataGenerated.fit(image);\n",
    "    \n",
    "    i = 0\n",
    "    for image_batch in dataGenerated.flow(image, save_to_dir=folder, save_prefix=prefix, save_format='png', batch_size=4, shuffle=False):\n",
    "        i += 1\n",
    "        if i >= batch_size:\n",
    "            break"
   ]
  },
  {
   "cell_type": "code",
   "execution_count": 20,
   "metadata": {},
   "outputs": [],
   "source": [
    "def reshape_function(image):\n",
    "    image = image.astype('float32')\n",
    "    image /= 255\n",
    "    h_dim = np.shape(image)[0]\n",
    "    w_dim = np.shape(image)[1]\n",
    "    image = image.reshape(1, h_dim, w_dim, 1)\n",
    "    return image"
   ]
  },
  {
   "cell_type": "code",
   "execution_count": 24,
   "metadata": {},
   "outputs": [],
   "source": [
    "# 'with_mask'\n",
    "# 'without_mask'\\\n",
    "prefix = 'aug'\n",
    "name_folders = ('with_mask','without_mask')\n",
    "for name_folder in name_folders:\n",
    "    folder = 'dataset/'+name_folder\n",
    "    file = 'dataset/'+name_folder+'/*.png'\n",
    "    files = glob.glob(file)\n",
    "    for filename in files:\n",
    "        image = reshape_function(imread(filename))\n",
    "        imageGenerator(image, folder, prefix, rotation=30, h_shift=0.2)"
   ]
  }
 ],
 "metadata": {
  "kernelspec": {
   "display_name": "Python 3",
   "language": "python",
   "name": "python3"
  },
  "language_info": {
   "codemirror_mode": {
    "name": "ipython",
    "version": 3
   },
   "file_extension": ".py",
   "mimetype": "text/x-python",
   "name": "python",
   "nbconvert_exporter": "python",
   "pygments_lexer": "ipython3",
   "version": "3.6.9"
  }
 },
 "nbformat": 4,
 "nbformat_minor": 5
}
