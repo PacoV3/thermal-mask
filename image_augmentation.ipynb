{
 "cells": [
  {
   "cell_type": "code",
   "execution_count": 1,
   "id": "9a775abf-4a8f-4ddb-994b-471db7c928c8",
   "metadata": {},
   "outputs": [],
   "source": [
    "from tensorflow.keras.preprocessing.image import ImageDataGenerator\n",
    "import matplotlib.pyplot as plt\n",
    "import numpy as np\n",
    "from skimage.io import imread"
   ]
  },
  {
   "cell_type": "code",
   "execution_count": 2,
   "metadata": {},
   "outputs": [],
   "source": [
    "def imageGenerator(image, zca=False, rotation=0., w_shift=0., h_shift=0., shear=0., zoom=0., h_flip=False, v_flip=False,  preprocess_fcn=None, batch_size=9):\n",
    "    dataGenerated = ImageDataGenerator(\n",
    "        zca_whitening=zca,\n",
    "        rotation_range=rotation,\n",
    "        width_shift_range=w_shift,\n",
    "        height_shift_range=h_shift,\n",
    "        shear_range=shear,\n",
    "        zoom_range=zoom,\n",
    "        fill_mode='nearest',\n",
    "        horizontal_flip=h_flip,\n",
    "        vertical_flip=v_flip,\n",
    "        preprocessing_function=preprocess_fcn)\n",
    "    dataGenerated.fit(image);\n",
    "\n",
    "    i = 0\n",
    "    for image_batch in dataGenerated.flow(image, batch_size=9, shuffle=False):\n",
    "        for image in image_batch:\n",
    "            plt.subplot(330 +1 + i)\n",
    "            plt.imshow(image)\n",
    "            i += 1\n",
    "        if i >= batch_size:\n",
    "            break;\n",
    "    plt.show()"
   ]
  },
  {
   "cell_type": "code",
   "execution_count": null,
   "metadata": {},
   "outputs": [],
   "source": [
    "#Se guarda la imagen y se muestra\n",
    "image = imread(\"dataset/with_mask/1626471864.8329413.png\")\n",
    "plt.imshow(image)\n",
    "plt.show()"
   ]
  },
  {
   "cell_type": "code",
   "execution_count": null,
   "metadata": {},
   "outputs": [],
   "source": [
    "# Se remodela la imagen\n",
    "image = image.astype('float32')\n",
    "image /= 255\n",
    "h_dim = np.shape(image)[0]\n",
    "w_dim = np.shape(image)[1]\n",
    "image = image.reshape(1, h_dim, w_dim, 1)\n",
    "print(image.shape)"
   ]
  },
  {
   "cell_type": "code",
   "execution_count": null,
   "metadata": {},
   "outputs": [],
   "source": [
    "# Genera imágenes a partir de la función imageGenerator\n",
    "imageGenerator(image, rotation=30, h_shift=0.5)"
   ]
  }
 ],
 "metadata": {
  "kernelspec": {
   "display_name": "Python 3",
   "language": "python",
   "name": "python3"
  },
  "language_info": {
   "codemirror_mode": {
    "name": "ipython",
    "version": 3
   },
   "file_extension": ".py",
   "mimetype": "text/x-python",
   "name": "python",
   "nbconvert_exporter": "python",
   "pygments_lexer": "ipython3",
   "version": "3.6.9"
  }
 },
 "nbformat": 4,
 "nbformat_minor": 5
}
